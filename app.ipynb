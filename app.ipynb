{
 "cells": [
  {
   "cell_type": "code",
   "execution_count": 11,
   "id": "bc2cd4f3",
   "metadata": {},
   "outputs": [],
   "source": [
    "from langchain.chains import RetrievalQA\n",
    "from langchain.document_loaders import PyPDFLoader\n",
    "from langchain.embeddings import HuggingFaceEmbeddings\n",
    "from langchain.llms import GPT4All\n",
    "from langchain.text_splitter import RecursiveCharacterTextSplitter\n",
    "from langchain.vectorstores import Chroma\n",
    "from pdf2image import convert_from_path\n",
    "\n",
    "\n"
   ]
  },
  {
   "cell_type": "code",
   "execution_count": 26,
   "id": "154f58bf",
   "metadata": {},
   "outputs": [
    {
     "data": {
      "text/plain": [
       "15"
      ]
     },
     "execution_count": 26,
     "metadata": {},
     "output_type": "execute_result"
    }
   ],
   "source": [
    "loader = PyPDFLoader(\"ScrumGuideEng.pdf\")\n",
    "documents = loader.load_and_split()\n",
    "len(documents) # 2"
   ]
  },
  {
   "cell_type": "code",
   "execution_count": 27,
   "id": "8e3111b8",
   "metadata": {},
   "outputs": [
    {
     "name": "stdout",
     "output_type": "stream",
     "text": [
      "4  \n",
      "Transparency enables inspection. Inspection without transparency is misleading and wasteful.  \n",
      "Inspection  \n",
      "The Scrum artifacts and the progress toward agreed goals must be inspected frequently and diligently to \n",
      "detect potentially undesirable variances or problems. To help with inspection, Scrum provides cadence \n",
      "in the form of its five events.  \n",
      "  \n",
      "Inspecti on enables adaptation. Inspection without adaptation is considered pointless. Scrum events are \n",
      "designed to provoke change.  \n",
      "Adaptation  \n",
      "If any aspects of a process deviate outside acceptable limits or if the resulting product is unacceptable, \n",
      "the process bei ng applied or the materials being produced must be adjusted. The adjustment must be \n",
      "made as soon as possible to minimize further deviation.  \n",
      "  \n",
      "Adaptation becomes more difficult when the people involved are not empowered or self -managing. A \n",
      "Scrum Team is exp ected to adapt the moment it learns anything new through inspection.  \n",
      "Scrum Values  \n",
      "Successful use of Scrum depends on people becoming more proficient in living five values:  \n",
      "Commitment, Focus, Openness, Respect, and Courage  \n",
      "The Scrum Team commits to achievin g its goals and to supporting each other. Their primary focus is on \n",
      "the work of the Sprint to make the best possible progress toward these goals. The Scrum Team and its \n",
      "stakeholders are open about the work and the challenges. Scrum Team members respect eac h other to \n",
      "be capable, independent people, and are respected as such by the people with whom they work. The \n",
      "Scrum Team members have the courage to do the right thing, to work on tough problems.  \n",
      "  \n",
      "These values give direction to the Scrum Team with regard to  their work, actions, and behavior. The \n",
      "decisions that are made, the steps taken, and the way Scrum is used should reinforce these values, not \n",
      "diminish or undermine them. The Scrum Team members learn and explore the values as they work with \n",
      "the Scrum event s and artifacts. When these values are embodied by the Scrum Team and the people \n",
      "they work with, the empirical Scrum pillars of transparency, inspection, and adaptation come to life \n",
      "building trust.\n"
     ]
    }
   ],
   "source": [
    "print(documents[5].page_content)"
   ]
  },
  {
   "cell_type": "code",
   "execution_count": 28,
   "id": "dfdfdabe",
   "metadata": {},
   "outputs": [
    {
     "data": {
      "text/plain": [
       "41"
      ]
     },
     "execution_count": 28,
     "metadata": {},
     "output_type": "execute_result"
    }
   ],
   "source": [
    "text_splitter = RecursiveCharacterTextSplitter(\n",
    "    chunk_size=1024,\n",
    "    chunk_overlap=64\n",
    ")\n",
    "texts = text_splitter.split_documents(documents)\n",
    "len(texts) # 3"
   ]
  },
  {
   "cell_type": "code",
   "execution_count": 29,
   "id": "21bf3cb3",
   "metadata": {},
   "outputs": [],
   "source": [
    "embeddings = HuggingFaceEmbeddings(\n",
    "    model_name=\"sentence-transformers/all-MiniLM-L6-v2\"\n",
    ")"
   ]
  },
  {
   "cell_type": "code",
   "execution_count": 30,
   "id": "1ea88fda",
   "metadata": {},
   "outputs": [],
   "source": [
    "db = Chroma.from_documents(texts, embeddings, persist_directory=\"db\")"
   ]
  },
  {
   "cell_type": "code",
   "execution_count": 31,
   "id": "ce70b8db",
   "metadata": {},
   "outputs": [],
   "source": [
    "local_path = (\"./models/orca-mini-3b.ggmlv3.q4_0.bin\") "
   ]
  },
  {
   "cell_type": "code",
   "execution_count": 32,
   "id": "77e9d8c2",
   "metadata": {},
   "outputs": [],
   "source": [
    "from langchain.callbacks.streaming_stdout import StreamingStdOutCallbackHandler"
   ]
  },
  {
   "cell_type": "code",
   "execution_count": 33,
   "id": "135856da",
   "metadata": {},
   "outputs": [
    {
     "name": "stdout",
     "output_type": "stream",
     "text": [
      "Found model file at  ./models/orca-mini-3b.ggmlv3.q4_0.bin\n",
      "Found model file at  ./models/orca-mini-3b.ggmlv3.q4_0.bin\n"
     ]
    }
   ],
   "source": [
    "# Callbacks support token-wise streaming\n",
    "callbacks = [StreamingStdOutCallbackHandler()]\n",
    "\n",
    "# Verbose is required to pass to the callback manager\n",
    "llm = GPT4All(model=local_path, callbacks=callbacks, verbose=True)\n",
    "\n",
    "# If you want to use a custom model add the backend parameter\n",
    "# Check https://docs.gpt4all.io/gpt4all_python.html for supported backends\n",
    "model = GPT4All(model=local_path, backend=\"gptj\", callbacks=callbacks, verbose=True)"
   ]
  },
  {
   "cell_type": "code",
   "execution_count": 34,
   "id": "034606e2",
   "metadata": {},
   "outputs": [],
   "source": [
    "qa = RetrievalQA.from_chain_type(\n",
    "    llm=model,\n",
    "    chain_type=\"stuff\",\n",
    "    retriever=db.as_retriever(search_kwargs={\"k\": 3}),\n",
    "    return_source_documents=True,\n",
    "    verbose=False,\n",
    ")"
   ]
  },
  {
   "cell_type": "code",
   "execution_count": 36,
   "id": "e6ffc5fb",
   "metadata": {},
   "outputs": [
    {
     "name": "stdout",
     "output_type": "stream",
     "text": [
      " \n",
      "Scrum Masters are accountable for establishing Scrum as defined in the Scrum Guide. They do this by helping everyone understand Scrum theory and practice, both within the Scrum Team and the organization. The Scrum Master is a true leader who serves the Scrum Team and the larger organization. They serve the Scrum Team in several ways, including coaching the team members in self-management and cross-functionality; causing the removal of impediments to the Scrum Team’s progress; and ensuring that all Scrum events take place and are positive, productive, and kept within the timebox. The Scrum Master serves the organization in several ways, including leading, training, and coaching the organization in its Scrum adoption. Planning and advising Scrum implementations within the organization. Helping employees and stakeholders understand and enact an empirical approach for complex work. Removing barriers between stakeholders and Scrum Teams."
     ]
    }
   ],
   "source": [
    "res = qa(f\"\"\"\n",
    "what is Scrum Master?\n",
    " Extract the Answer from text.\n",
    "\"\"\")\n"
   ]
  },
  {
   "cell_type": "code",
   "execution_count": null,
   "id": "68c02789",
   "metadata": {},
   "outputs": [],
   "source": []
  }
 ],
 "metadata": {
  "kernelspec": {
   "display_name": "Python 3 (ipykernel)",
   "language": "python",
   "name": "python3"
  },
  "language_info": {
   "codemirror_mode": {
    "name": "ipython",
    "version": 3
   },
   "file_extension": ".py",
   "mimetype": "text/x-python",
   "name": "python",
   "nbconvert_exporter": "python",
   "pygments_lexer": "ipython3",
   "version": "3.11.4"
  }
 },
 "nbformat": 4,
 "nbformat_minor": 5
}
